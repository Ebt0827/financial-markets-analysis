{
 "cells": [
  {
   "cell_type": "markdown",
   "id": "b173e8fa",
   "metadata": {},
   "source": [
    "## Task 1\n",
    "\n",
    "# NVDA хувьцааг yahoo_finance аас татсан.\n",
    "    \n"
   ]
  },
  {
   "cell_type": "code",
   "execution_count": null,
   "id": "c6a7b707",
   "metadata": {},
   "outputs": [
    {
     "name": "stderr",
     "output_type": "stream",
     "text": [
      "[*********************100%***********************]  1 of 1 completed\n"
     ]
    }
   ],
   "source": [
    "import yfinance as yf\n",
    "\n",
    "# This script downloads historical stock data for NVIDIA (NVDA) from January 1, 2025, to May 31, 2025,\n",
    "data = yf.download(\"NVDA\", start=\"2025-01-01\", end=\"2025-05-31\")\n",
    "\n",
    "# and saves it to a CSV file named \"NVDA_data.csv\".\n",
    "data.to_csv(\"NVDA_data.csv\")"
   ]
  },
  {
   "cell_type": "markdown",
   "id": "b3913879",
   "metadata": {},
   "source": [
    "# NVDA хувьцаа доорх заасан хугацаанд хэдэн өдөр $130 оос их байсныг олсон. "
   ]
  },
  {
   "cell_type": "code",
   "execution_count": null,
   "id": "f7870664",
   "metadata": {},
   "outputs": [
    {
     "name": "stdout",
     "output_type": "stream",
     "text": [
      "Number of days when the closing price was above $130: 38\n"
     ]
    }
   ],
   "source": [
    "import pandas as pd\n",
    "import yfinance as yf\n",
    "\n",
    "# Download NVIDIA stock data from Yahoo Finance\n",
    "df = pd.read_csv('NVDA_data.csv')\n",
    "\n",
    "# Ensure the 'Close' column is numeric, coercing errors to NaN\n",
    "df[\"Close\"] = pd.to_numeric(df[\"Close\"], errors='coerce')\n",
    "\n",
    "# Drop rows where 'Close' is NaN\n",
    "df = df.dropna(subset=[\"Close\"])\n",
    "\n",
    "# Count the number of days when the closing price was above $130\n",
    "days_above_130 = df[df[\"Close\"] > 130]\n",
    "\n",
    "# Get the count of such days\n",
    "count = len(days_above_130)\n",
    "\n",
    "#\n",
    "print(f\"Number of days when the closing price was above $130: {count}\")"
   ]
  },
  {
   "cell_type": "markdown",
   "id": "0ab49982",
   "metadata": {},
   "source": [
    "# SMA 10-аас дээш гарсан өдөр дараагийн өдөр ханш дунджаар хэдэн хувиар өссөн бэ?"
   ]
  },
  {
   "cell_type": "code",
   "execution_count": null,
   "id": "8aa40b48",
   "metadata": {},
   "outputs": [
    {
     "name": "stdout",
     "output_type": "stream",
     "text": [
      "Average growth on days when the closing price was above the 10-day SMA: 0.01%\n"
     ]
    }
   ],
   "source": [
    "import pandas as pd\n",
    "\n",
    "# Read the data from the CSV file\n",
    "# NVIDIA хувьцааны түүхийн өгөгдлийг \"NVDA_data.csv\" файлаас унших\n",
    "df = pd.read_csv('NVDA_data.csv')\n",
    "\n",
    "# Convert the 'Close' column to numeric, coercing errors to NaN\n",
    "# Close баганын утгуудыг тоон хэлбэрт хөрвүүлэх, алдааг NaN болгон өөрчлөх\n",
    "df[\"Close\"] = pd.to_numeric(df[\"Close\"], errors='coerce')\n",
    "\n",
    "#   Drop rows with NaN values in the 'Close' column\n",
    "# Close баганад NaN утгуудтай мөрүүдийг хасах\n",
    "df = df.dropna(subset=[\"Close\"])\n",
    "\n",
    "# Calculate the 10-day Simple Moving Average (SMA)\n",
    "# SMA 10 хоногийн энгийн хөдөлгөөнт дундажийг тооцоолох\n",
    "df[\"SMA_10\"] = df[\"Close\"].rolling(window=10).mean()\n",
    "\n",
    "# Calculate the next day's return as a percentage\n",
    "# Дараагийн өдрийн өсөлтийг хувьчилсан хэлбэрээр тооцоолох\n",
    "df[\"Next_day_return\"] = df[\"Close\"].pct_change().shift(-1) * 100\n",
    "\n",
    "# Calculate the average growth on days when the closing price was above the 10-day SMA\n",
    "# Өдөр тутмын хаалтын үнэ 10 хоногийн SMA-гаас дээш байсан өдөрт өсөлтийн дундажийг тооцоолох\n",
    "condition = (df[\"Close\"] > df[\"SMA_10\"])\n",
    "\n",
    "# Calculate the average growth on those days\n",
    "#  Дээрх нөхцөлд нийцсэн өдөрт өсөлтийн дундажийг тооцоолох\n",
    "avg_growth = df[condition][\"Next_day_return\"].mean()\n",
    "# Print the average growth\n",
    "print(\n",
    "    f\"Average growth on days when the closing price was above the 10-day SMA: {avg_growth:.2f}%\")"
   ]
  }
 ],
 "metadata": {
  "kernelspec": {
   "display_name": "Python 3",
   "language": "python",
   "name": "python3"
  },
  "language_info": {
   "codemirror_mode": {
    "name": "ipython",
    "version": 3
   },
   "file_extension": ".py",
   "mimetype": "text/x-python",
   "name": "python",
   "nbconvert_exporter": "python",
   "pygments_lexer": "ipython3",
   "version": "3.12.1"
  }
 },
 "nbformat": 4,
 "nbformat_minor": 5
}
