{
 "cells": [
  {
   "cell_type": "markdown",
   "id": "b66b79c0",
   "metadata": {},
   "source": [
    "## Task 1\n",
    "    Apple (AAPL) компанийн хувьцааны ханш 200 доллараас дээш байсан нийт хэдэн өдөр байна вэ?"
   ]
  },
  {
   "cell_type": "code",
   "execution_count": 1,
   "id": "fe5076e6",
   "metadata": {},
   "outputs": [
    {
     "name": "stdout",
     "output_type": "stream",
     "text": [
      "Apple-ийн хувьцаа 200$-аас дээш байсан нийт өдрийн тоо: 13\n"
     ]
    }
   ],
   "source": [
    "import pandas as pd\n",
    "\n",
    "# 1. Дата унших\n",
    "df = pd.read_csv(\"AAPL_data.csv\")\n",
    "\n",
    "# 2. \"Close\" баганыг тоон хэлбэрт оруулах\n",
    "df[\"Close\"] = pd.to_numeric(df[\"Close\"], errors='coerce')\n",
    "\n",
    "# 3. Хоосон утгууд устгах\n",
    "df = df.dropna(subset=[\"Close\"])\n",
    "\n",
    "# 4. 200-аас дээш ханштай өдрүүдийг шүүх\n",
    "days_above_200 = df[df[\"Close\"] > 200]\n",
    "\n",
    "# 5. Өдөр тоолох\n",
    "count = len(days_above_200)\n",
    "\n",
    "# 6. Хариу хэвлэх\n",
    "print(f\"Apple-ийн хувьцаа 200$-аас дээш байсан нийт өдрийн тоо: {count}\")"
   ]
  },
  {
   "cell_type": "code",
   "execution_count": null,
   "id": "9b2f5b65",
   "metadata": {},
   "outputs": [
    {
     "name": "stdout",
     "output_type": "stream",
     "text": [
      "SMA10 < Close үед дараагийн өдөр ханш дунджаар -0.98% өсдөг байна.\n"
     ]
    }
   ],
   "source": [
    "import pandas as pd\n",
    "\n",
    "# 1. Дата унших\n",
    "df = pd.read_csv(\"AAPL_data.csv\")\n",
    "\n",
    "# 2. Close баганыг тоон утга болгох\n",
    "df[\"Close\"] = pd.to_numeric(df[\"Close\"], errors='coerce')\n",
    "\n",
    "# 3. Хоосон утгууд устгах\n",
    "df = df.dropna(subset=[\"Close\"])\n",
    "\n",
    "# 4. SMA_10 тооцоолох\n",
    "df[\"SMA_10\"] = df[\"Close\"].rolling(window=10).mean()\n",
    "\n",
    "# 5. Дараагийн өдрийн өсөлтийн хувийг тооцоолох\n",
    "df[\"Next_Day_Return\"] = df[\"Close\"].pct_change().shift(-1) * 100  # %-аар\n",
    "\n",
    "# 6. SMA < Close байгаа мөрүүдийг шүүх\n",
    "condition = df[\"Close\"] > df[\"SMA_10\"]\n",
    "\n",
    "# 7. Тэр мөрүүдийн дараагийн өдрийн өсөлтийн дундажийг авах\n",
    "avg_growth = df[condition][\"Next_Day_Return\"].mean()\n",
    "\n",
    "# 8. Хариу хэвлэх\n",
    "print(\n",
    "    f\"SMA10 < Close үед дараагийн өдөр ханш дунджаар {avg_growth:.2f}% өсдөг байна.\")"
   ]
  }
 ],
 "metadata": {
  "kernelspec": {
   "display_name": "Python 3",
   "language": "python",
   "name": "python3"
  },
  "language_info": {
   "codemirror_mode": {
    "name": "ipython",
    "version": 3
   },
   "file_extension": ".py",
   "mimetype": "text/x-python",
   "name": "python",
   "nbconvert_exporter": "python",
   "pygments_lexer": "ipython3",
   "version": "3.12.1"
  }
 },
 "nbformat": 4,
 "nbformat_minor": 5
}
